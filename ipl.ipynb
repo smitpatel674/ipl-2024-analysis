{
 "cells": [
  {
   "cell_type": "code",
   "execution_count": 21,
   "id": "63505e10-8a93-4607-8cd1-d211990c2f0a",
   "metadata": {},
   "outputs": [],
   "source": [
    "import numpy as np\n",
    "import pandas as pd\n",
    "from matplotlib import pyplot as plt\n",
    "import seaborn as sns"
   ]
  },
  {
   "cell_type": "code",
   "execution_count": 2,
   "id": "58743b8f-9453-4eee-80c1-1721c5aefc43",
   "metadata": {},
   "outputs": [],
   "source": [
    "ipl=pd.read_csv('ipl2024 Matches.csv')"
   ]
  },
  {
   "cell_type": "code",
   "execution_count": 3,
   "id": "2b2b5496-bd35-4294-bd56-49f0807a1faf",
   "metadata": {},
   "outputs": [
    {
     "data": {
      "text/html": [
       "<div>\n",
       "<style scoped>\n",
       "    .dataframe tbody tr th:only-of-type {\n",
       "        vertical-align: middle;\n",
       "    }\n",
       "\n",
       "    .dataframe tbody tr th {\n",
       "        vertical-align: top;\n",
       "    }\n",
       "\n",
       "    .dataframe thead th {\n",
       "        text-align: right;\n",
       "    }\n",
       "</style>\n",
       "<table border=\"1\" class=\"dataframe\">\n",
       "  <thead>\n",
       "    <tr style=\"text-align: right;\">\n",
       "      <th></th>\n",
       "      <th>id</th>\n",
       "      <th>date</th>\n",
       "      <th>team1</th>\n",
       "      <th>team2</th>\n",
       "      <th>toss_winner</th>\n",
       "      <th>decision</th>\n",
       "      <th>first_score</th>\n",
       "      <th>first_wkts</th>\n",
       "      <th>second_score</th>\n",
       "      <th>second_wkts</th>\n",
       "      <th>winner</th>\n",
       "      <th>player_of_the_match</th>\n",
       "      <th>most_runs</th>\n",
       "      <th>most_wkts</th>\n",
       "    </tr>\n",
       "  </thead>\n",
       "  <tbody>\n",
       "    <tr>\n",
       "      <th>0</th>\n",
       "      <td>1</td>\n",
       "      <td>March 22,2024</td>\n",
       "      <td>Banglore</td>\n",
       "      <td>Chennai</td>\n",
       "      <td>Banglore</td>\n",
       "      <td>Bat</td>\n",
       "      <td>173</td>\n",
       "      <td>6</td>\n",
       "      <td>176</td>\n",
       "      <td>4</td>\n",
       "      <td>Chennai</td>\n",
       "      <td>Mustafizur Rahman</td>\n",
       "      <td>Anuj Rawat</td>\n",
       "      <td>Mustafizur Rahman</td>\n",
       "    </tr>\n",
       "    <tr>\n",
       "      <th>1</th>\n",
       "      <td>2</td>\n",
       "      <td>March 23,2024</td>\n",
       "      <td>Delhi</td>\n",
       "      <td>Punjab</td>\n",
       "      <td>Punjab</td>\n",
       "      <td>Field</td>\n",
       "      <td>174</td>\n",
       "      <td>9</td>\n",
       "      <td>177</td>\n",
       "      <td>6</td>\n",
       "      <td>Punjab</td>\n",
       "      <td>Sam Curran</td>\n",
       "      <td>Sam Curran</td>\n",
       "      <td>Kuldeep Yadav</td>\n",
       "    </tr>\n",
       "    <tr>\n",
       "      <th>2</th>\n",
       "      <td>3</td>\n",
       "      <td>March 23,2024</td>\n",
       "      <td>Kolkata</td>\n",
       "      <td>Hyderabad</td>\n",
       "      <td>Hyderabad</td>\n",
       "      <td>Field</td>\n",
       "      <td>208</td>\n",
       "      <td>7</td>\n",
       "      <td>204</td>\n",
       "      <td>7</td>\n",
       "      <td>Kolkata</td>\n",
       "      <td>Andre Russell</td>\n",
       "      <td>Andre Russell</td>\n",
       "      <td>T Natarajan</td>\n",
       "    </tr>\n",
       "    <tr>\n",
       "      <th>3</th>\n",
       "      <td>4</td>\n",
       "      <td>March 24,2024</td>\n",
       "      <td>Rajasthan</td>\n",
       "      <td>Lucknow</td>\n",
       "      <td>Rajasthan</td>\n",
       "      <td>Bat</td>\n",
       "      <td>193</td>\n",
       "      <td>4</td>\n",
       "      <td>173</td>\n",
       "      <td>6</td>\n",
       "      <td>Rajasthan</td>\n",
       "      <td>Sanju Samson</td>\n",
       "      <td>Sanju Samson</td>\n",
       "      <td>Trent Boult</td>\n",
       "    </tr>\n",
       "    <tr>\n",
       "      <th>4</th>\n",
       "      <td>5</td>\n",
       "      <td>March 24,2024</td>\n",
       "      <td>Gujarat</td>\n",
       "      <td>Mumbai</td>\n",
       "      <td>Mumbai</td>\n",
       "      <td>Field</td>\n",
       "      <td>168</td>\n",
       "      <td>6</td>\n",
       "      <td>162</td>\n",
       "      <td>9</td>\n",
       "      <td>Gujarat</td>\n",
       "      <td>Sai Sudharsan</td>\n",
       "      <td>Dewald Brevis</td>\n",
       "      <td>Jasprit Bumrah</td>\n",
       "    </tr>\n",
       "  </tbody>\n",
       "</table>\n",
       "</div>"
      ],
      "text/plain": [
       "   id           date      team1      team2 toss_winner decision  first_score  \\\n",
       "0   1  March 22,2024   Banglore    Chennai    Banglore      Bat          173   \n",
       "1   2  March 23,2024      Delhi     Punjab      Punjab    Field          174   \n",
       "2   3  March 23,2024    Kolkata  Hyderabad   Hyderabad    Field          208   \n",
       "3   4  March 24,2024  Rajasthan    Lucknow   Rajasthan      Bat          193   \n",
       "4   5  March 24,2024    Gujarat     Mumbai      Mumbai    Field          168   \n",
       "\n",
       "   first_wkts  second_score  second_wkts     winner player_of_the_match  \\\n",
       "0           6           176            4    Chennai   Mustafizur Rahman   \n",
       "1           9           177            6     Punjab          Sam Curran   \n",
       "2           7           204            7    Kolkata       Andre Russell   \n",
       "3           4           173            6  Rajasthan        Sanju Samson   \n",
       "4           6           162            9    Gujarat       Sai Sudharsan   \n",
       "\n",
       "       most_runs          most_wkts  \n",
       "0     Anuj Rawat  Mustafizur Rahman  \n",
       "1     Sam Curran      Kuldeep Yadav  \n",
       "2  Andre Russell        T Natarajan  \n",
       "3   Sanju Samson        Trent Boult  \n",
       "4  Dewald Brevis     Jasprit Bumrah  "
      ]
     },
     "execution_count": 3,
     "metadata": {},
     "output_type": "execute_result"
    }
   ],
   "source": [
    "ipl.head()"
   ]
  },
  {
   "cell_type": "code",
   "execution_count": 4,
   "id": "7d0221fb-a0c3-4435-85e5-e9314aa5883d",
   "metadata": {},
   "outputs": [
    {
     "data": {
      "text/plain": [
       "(74, 14)"
      ]
     },
     "execution_count": 4,
     "metadata": {},
     "output_type": "execute_result"
    }
   ],
   "source": [
    "ipl.shape"
   ]
  },
  {
   "cell_type": "code",
   "execution_count": 5,
   "id": "fd89648d-9a1c-46b2-af44-e45a950dfad7",
   "metadata": {},
   "outputs": [
    {
     "data": {
      "text/plain": [
       "winner\n",
       "Kolkata      11\n",
       "Hyderabad     9\n",
       "Rajasthan     9\n",
       "Delhi         7\n",
       "Chennai       7\n",
       "Banglore      7\n",
       "Lucknow       7\n",
       "Punjab        5\n",
       "Gujarat       5\n",
       "Mumbai        4\n",
       "Abandoned     3\n",
       "Name: count, dtype: int64"
      ]
     },
     "execution_count": 5,
     "metadata": {},
     "output_type": "execute_result"
    }
   ],
   "source": [
    "ipl['winner'].value_counts()"
   ]
  },
  {
   "cell_type": "code",
   "execution_count": 6,
   "id": "68e2f392-3a0f-4e7d-a1c0-aee66c907f40",
   "metadata": {},
   "outputs": [
    {
     "data": {
      "image/png": "[encoded data removed]",
      "text/plain": [
       "<Figure size 500x400 with 1 Axes>"
      ]
     },
     "metadata": {},
     "output_type": "display_data"
    }
   ],
   "source": [
    "plt.figure(figsize=(5,4))\n",
    "sns.countplot(x='winner',data=ipl)\n",
    "plt.title('winner team of ipl')\n",
    "plt.xlabel('team name')\n",
    "plt.xticks(rotation=90)\n",
    "plt.ylabel('Count')\n",
    "plt.show()"
   ]
  },
  {
   "cell_type": "code",
   "execution_count": 7,
   "id": "e6aff033-e9a9-4d35-950a-c24cf4c1cef1",
   "metadata": {},
   "outputs": [
    {
     "data": {
      "text/plain": [
       "player_of_the_match\n",
       "Sunil Narine           3\n",
       "Abhishek Sharma        3\n",
       "Travis Head            3\n",
       "Sam Curran             2\n",
       "Ravindra Jadeja        2\n",
       "Sanju Samson           2\n",
       "Mayank Yadav           2\n",
       "Virat Kohli            2\n",
       "Jos Buttler            2\n",
       "Rishabh Pant           2\n",
       "Jasprit Bumrah         2\n",
       "Andre Russell          2\n",
       "Kuldeep Yadav          2\n",
       "Mitchell Starc         2\n",
       "Varun Chakravarthy     2\n",
       "Marcus Stoinis         2\n",
       "Mohit Sharma           1\n",
       "Mustafizur Rahman      1\n",
       "Shivam Dube            1\n",
       "Sai Sudharsan          1\n",
       "Nitish Kumar Reddy     1\n",
       "Yash Thakur            1\n",
       "Romario Shepherd       1\n",
       "Shashank Singh         1\n",
       "Khaleel Ahmed          1\n",
       "Trent Boult            1\n",
       "Riyan Parag            1\n",
       "Shimron Hetmyer        1\n",
       "Phil Salt              1\n",
       "KL Rahul               1\n",
       "Sai Kishore            1\n",
       "Sandeep Sharma         1\n",
       "Rajat Patidar          1\n",
       "Jonny Bairstow         1\n",
       "Matheesha Pathirana    1\n",
       "Rashid Khan            1\n",
       "Will Jacks             1\n",
       "Jake Fraser-McGurk     1\n",
       "Harpreet Brar          1\n",
       "Ruturaj Gaikwad        1\n",
       "Venkatesh Iyer         1\n",
       "Mohammed Siraj         1\n",
       "Suryakumar Yadav       1\n",
       "Bhuvneshwar Kumar      1\n",
       "Shubman Gill           1\n",
       "Simarjeet Singh        1\n",
       "Ishant Sharma          1\n",
       "Cameron Green          1\n",
       "Nicholas Pooran        1\n",
       "Faf du Plessis         1\n",
       "Ravichandran Ashwin    1\n",
       "Shahbaz Ahmed          1\n",
       "Name: count, dtype: int64"
      ]
     },
     "execution_count": 7,
     "metadata": {},
     "output_type": "execute_result"
    }
   ],
   "source": [
    "ipl['player_of_the_match'].value_counts()"
   ]
  },
  {
   "cell_type": "code",
   "execution_count": 18,
   "id": "541c894e-2e99-4542-9a52-80dcbbcfab26",
   "metadata": {},
   "outputs": [
    {
     "data": {
      "text/plain": [
       "['Sunil Narine',\n",
       " 'Abhishek Sharma',\n",
       " 'Travis Head',\n",
       " 'Sam Curran',\n",
       " 'Ravindra Jadeja']"
      ]
     },
     "execution_count": 18,
     "metadata": {},
     "output_type": "execute_result"
    }
   ],
   "source": [
    "list(ipl['player_of_the_match'].value_counts()[0:5].keys())"
   ]
  },
  {
   "cell_type": "code",
   "execution_count": 19,
   "id": "9ff7ff4c-6ba3-4143-9ff4-899a3c48900b",
   "metadata": {},
   "outputs": [
    {
     "data": {
      "image/png": "[encoded data removed]",
      "text/plain": [
       "<Figure size 800x400 with 1 Axes>"
      ]
     },
     "metadata": {},
     "output_type": "display_data"
    }
   ],
   "source": [
    "plt.figure(figsize=(8,4))\n",
    "plt.bar(list(ipl['player_of_the_match'].value_counts()[0:5].keys()),ipl['player_of_the_match'].value_counts()[0:5])\n",
    "plt.title('player of the match')\n",
    "plt.xlabel('player name')\n",
    "plt.ylabel('matches')\n",
    "plt.show()"
   ]
  },
  {
   "cell_type": "code",
   "execution_count": 20,
   "id": "83ba9c72-a28f-4110-9af9-edb5f206ef78",
   "metadata": {},
   "outputs": [
    {
     "data": {
      "text/plain": [
       "toss_winner\n",
       "Rajasthan    11\n",
       "Mumbai       10\n",
       "Punjab       10\n",
       "Lucknow       9\n",
       "Banglore      8\n",
       "Hyderabad     7\n",
       "Delhi         7\n",
       "Kolkata       4\n",
       "Gujarat       3\n",
       "Chennai       3\n",
       "No Toss       2\n",
       "Name: count, dtype: int64"
      ]
     },
     "execution_count": 20,
     "metadata": {},
     "output_type": "execute_result"
    }
   ],
   "source": [
    "ipl['toss_winner'].value_counts()"
   ]
  },
  {
   "cell_type": "code",
   "execution_count": 8,
   "id": "d52135ae-2a2b-4732-9f68-332c4d4ab5c4",
   "metadata": {},
   "outputs": [
    {
     "data": {
      "text/plain": [
       "np.int64(31)"
      ]
     },
     "execution_count": 8,
     "metadata": {},
     "output_type": "execute_result"
    }
   ],
   "source": [
    "np.sum(ipl['toss_winner']==ipl['winner'])"
   ]
  },
  {
   "cell_type": "code",
   "execution_count": 9,
   "id": "7339a04e-269b-4a9c-a191-7f4724426334",
   "metadata": {},
   "outputs": [
    {
     "data": {
      "text/plain": [
       "0.4189189189189189"
      ]
     },
     "execution_count": 9,
     "metadata": {},
     "output_type": "execute_result"
    }
   ],
   "source": [
    "31/74"
   ]
  },
  {
   "cell_type": "code",
   "execution_count": 10,
   "id": "69a15b7c-20cd-4151-b9c7-4cda4d940bf9",
   "metadata": {},
   "outputs": [],
   "source": [
    "team_1_won=ipl[(ipl['first_score']>ipl['second_score'])&(ipl['decision']=='Bat')]"
   ]
  },
  {
   "cell_type": "code",
   "execution_count": 11,
   "id": "f1180bcc-6e5c-4835-b708-2cd60a6b8f41",
   "metadata": {},
   "outputs": [
    {
     "data": {
      "text/html": [
       "<div>\n",
       "<style scoped>\n",
       "    .dataframe tbody tr th:only-of-type {\n",
       "        vertical-align: middle;\n",
       "    }\n",
       "\n",
       "    .dataframe tbody tr th {\n",
       "        vertical-align: top;\n",
       "    }\n",
       "\n",
       "    .dataframe thead th {\n",
       "        text-align: right;\n",
       "    }\n",
       "</style>\n",
       "<table border=\"1\" class=\"dataframe\">\n",
       "  <thead>\n",
       "    <tr style=\"text-align: right;\">\n",
       "      <th></th>\n",
       "      <th>id</th>\n",
       "      <th>date</th>\n",
       "      <th>team1</th>\n",
       "      <th>team2</th>\n",
       "      <th>toss_winner</th>\n",
       "      <th>decision</th>\n",
       "      <th>first_score</th>\n",
       "      <th>first_wkts</th>\n",
       "      <th>second_score</th>\n",
       "      <th>second_wkts</th>\n",
       "      <th>winner</th>\n",
       "      <th>player_of_the_match</th>\n",
       "      <th>most_runs</th>\n",
       "      <th>most_wkts</th>\n",
       "    </tr>\n",
       "  </thead>\n",
       "  <tbody>\n",
       "    <tr>\n",
       "      <th>3</th>\n",
       "      <td>4</td>\n",
       "      <td>March 24,2024</td>\n",
       "      <td>Rajasthan</td>\n",
       "      <td>Lucknow</td>\n",
       "      <td>Rajasthan</td>\n",
       "      <td>Bat</td>\n",
       "      <td>193</td>\n",
       "      <td>4</td>\n",
       "      <td>173</td>\n",
       "      <td>6</td>\n",
       "      <td>Rajasthan</td>\n",
       "      <td>Sanju Samson</td>\n",
       "      <td>Sanju Samson</td>\n",
       "      <td>Trent Boult</td>\n",
       "    </tr>\n",
       "    <tr>\n",
       "      <th>10</th>\n",
       "      <td>11</td>\n",
       "      <td>March 30,2024</td>\n",
       "      <td>Lucknow</td>\n",
       "      <td>Punjab</td>\n",
       "      <td>Lucknow</td>\n",
       "      <td>Bat</td>\n",
       "      <td>199</td>\n",
       "      <td>8</td>\n",
       "      <td>178</td>\n",
       "      <td>5</td>\n",
       "      <td>Lucknow</td>\n",
       "      <td>Mayank Yadav</td>\n",
       "      <td>Shikhar Dhawan</td>\n",
       "      <td>Mayank Yadav</td>\n",
       "    </tr>\n",
       "    <tr>\n",
       "      <th>12</th>\n",
       "      <td>13</td>\n",
       "      <td>March 31,2024</td>\n",
       "      <td>Delhi</td>\n",
       "      <td>Chennai</td>\n",
       "      <td>Delhi</td>\n",
       "      <td>Bat</td>\n",
       "      <td>191</td>\n",
       "      <td>5</td>\n",
       "      <td>171</td>\n",
       "      <td>6</td>\n",
       "      <td>Delhi</td>\n",
       "      <td>Khaleel Ahmed</td>\n",
       "      <td>Jos Buttler</td>\n",
       "      <td>Mukesh Kumar</td>\n",
       "    </tr>\n",
       "    <tr>\n",
       "      <th>15</th>\n",
       "      <td>16</td>\n",
       "      <td>April 3,2024</td>\n",
       "      <td>Kolkata</td>\n",
       "      <td>Delhi</td>\n",
       "      <td>Kolkata</td>\n",
       "      <td>Bat</td>\n",
       "      <td>272</td>\n",
       "      <td>7</td>\n",
       "      <td>166</td>\n",
       "      <td>10</td>\n",
       "      <td>Kolkata</td>\n",
       "      <td>Sunil Narine</td>\n",
       "      <td>Sunil Narine</td>\n",
       "      <td>Vaibhav Arora</td>\n",
       "    </tr>\n",
       "    <tr>\n",
       "      <th>20</th>\n",
       "      <td>21</td>\n",
       "      <td>April 7,2024</td>\n",
       "      <td>Lucknow</td>\n",
       "      <td>Gujarat</td>\n",
       "      <td>Lucknow</td>\n",
       "      <td>Bat</td>\n",
       "      <td>163</td>\n",
       "      <td>5</td>\n",
       "      <td>130</td>\n",
       "      <td>10</td>\n",
       "      <td>Lucknow</td>\n",
       "      <td>Yash Thakur</td>\n",
       "      <td>Marcus Stoinis</td>\n",
       "      <td>Yash Thakur</td>\n",
       "    </tr>\n",
       "  </tbody>\n",
       "</table>\n",
       "</div>"
      ],
      "text/plain": [
       "    id           date      team1    team2 toss_winner decision  first_score  \\\n",
       "3    4  March 24,2024  Rajasthan  Lucknow   Rajasthan      Bat          193   \n",
       "10  11  March 30,2024    Lucknow   Punjab     Lucknow      Bat          199   \n",
       "12  13  March 31,2024      Delhi  Chennai       Delhi      Bat          191   \n",
       "15  16   April 3,2024    Kolkata    Delhi     Kolkata      Bat          272   \n",
       "20  21   April 7,2024    Lucknow  Gujarat     Lucknow      Bat          163   \n",
       "\n",
       "    first_wkts  second_score  second_wkts     winner player_of_the_match  \\\n",
       "3            4           173            6  Rajasthan        Sanju Samson   \n",
       "10           8           178            5    Lucknow        Mayank Yadav   \n",
       "12           5           171            6      Delhi       Khaleel Ahmed   \n",
       "15           7           166           10    Kolkata        Sunil Narine   \n",
       "20           5           130           10    Lucknow         Yash Thakur   \n",
       "\n",
       "         most_runs      most_wkts  \n",
       "3     Sanju Samson    Trent Boult  \n",
       "10  Shikhar Dhawan   Mayank Yadav  \n",
       "12     Jos Buttler   Mukesh Kumar  \n",
       "15    Sunil Narine  Vaibhav Arora  \n",
       "20  Marcus Stoinis    Yash Thakur  "
      ]
     },
     "execution_count": 11,
     "metadata": {},
     "output_type": "execute_result"
    }
   ],
   "source": [
    "team_1_won.head()"
   ]
  },
  {
   "cell_type": "code",
   "execution_count": 12,
   "id": "2462576b-85a9-4e5e-8122-1338a3a247db",
   "metadata": {},
   "outputs": [
    {
     "data": {
      "text/plain": [
       "winner\n",
       "Lucknow      2\n",
       "Rajasthan    1\n",
       "Delhi        1\n",
       "Kolkata      1\n",
       "Banglore     1\n",
       "Hyderabad    1\n",
       "Name: count, dtype: int64"
      ]
     },
     "execution_count": 12,
     "metadata": {},
     "output_type": "execute_result"
    }
   ],
   "source": [
    "team_1_won['winner'].value_counts()"
   ]
  },
  {
   "cell_type": "code",
   "execution_count": 13,
   "id": "535a9ab4-8cde-4e95-aa81-de2d3b48e66d",
   "metadata": {},
   "outputs": [
    {
     "data": {
      "text/plain": [
       "([<matplotlib.patches.Wedge at 0x26f2b44f230>,\n",
       "  <matplotlib.patches.Wedge at 0x26f2b460e30>,\n",
       "  <matplotlib.patches.Wedge at 0x26f2b4cda90>,\n",
       "  <matplotlib.patches.Wedge at 0x26f2b4ce0f0>,\n",
       "  <matplotlib.patches.Wedge at 0x26f2b4ce750>,\n",
       "  <matplotlib.patches.Wedge at 0x26f2b4cee40>],\n",
       " [Text(0.6858387239483094, 0.860014677045081, 'Lucknow'),\n",
       "  Text(-0.6858389529157668, 0.8600144944496021, 'Rajasthan'),\n",
       "  Text(-1.0999999999999959, -9.616505800409723e-08, 'Delhi'),\n",
       "  Text(-0.6858385975025587, -0.8600147778821732, 'Kolkata'),\n",
       "  Text(0.24477313815322616, -1.072420678110331, 'Banglore'),\n",
       "  Text(0.9910659784829472, -0.47727164832371777, 'Hyderabad')],\n",
       " [Text(0.3740938494263505, 0.46909891475186233, '28.6%'),\n",
       "  Text(-0.374093974317691, 0.4690988151543284, '14.3%'),\n",
       "  Text(-0.5999999999999978, -5.2453668002234845e-08, '14.3%'),\n",
       "  Text(-0.37409378045594105, -0.4690989697539126, '14.3%'),\n",
       "  Text(0.1335126208108506, -0.5849567335147259, '14.3%'),\n",
       "  Text(0.5405814428088802, -0.26032998999475515, '14.3%')])"
      ]
     },
     "execution_count": 13,
     "metadata": {},
     "output_type": "execute_result"
    },
    {
     "data": {
      "image/png": "[encoded data removed]",
      "text/plain": [
       "<Figure size 640x480 with 1 Axes>"
      ]
     },
     "metadata": {},
     "output_type": "display_data"
    }
   ],
   "source": [
    "plt.pie(team_1_won['winner'].value_counts(),labels=team_1_won['winner'].value_counts().keys(),autopct='%0.1f%%')"
   ]
  },
  {
   "cell_type": "code",
   "execution_count": 14,
   "id": "fde8c093-d4a2-4c32-98b3-4ef74f3bb6fc",
   "metadata": {},
   "outputs": [
    {
     "data": {
      "text/plain": [
       "Text(0, 0.5, 'Teams')"
      ]
     },
     "execution_count": 14,
     "metadata": {},
     "output_type": "execute_result"
    },
    {
     "data": {
      "image/png": "[encoded data removed]",
      "text/plain": [
       "<Figure size 800x500 with 1 Axes>"
      ]
     },
     "metadata": {},
     "output_type": "display_data"
    }
   ],
   "source": [
    "plt.figure(figsize=(8,5))\n",
    "plt.hist(team_1_won['first_score'],bins=20,color='r')\n",
    "plt.xlabel('Score')\n",
    "plt.ylabel('Teams')"
   ]
  },
  {
   "cell_type": "code",
   "execution_count": 15,
   "id": "26da661b-6254-407e-9618-3eda607d2fe9",
   "metadata": {},
   "outputs": [],
   "source": [
    "team_2_won=ipl[(ipl['first_score']<ipl['second_score'])&(ipl['decision']=='Field')]"
   ]
  },
  {
   "cell_type": "code",
   "execution_count": 16,
   "id": "b35abe5c-31f0-44d5-bf7a-69080a2346bf",
   "metadata": {},
   "outputs": [
    {
     "data": {
      "text/html": [
       "<div>\n",
       "<style scoped>\n",
       "    .dataframe tbody tr th:only-of-type {\n",
       "        vertical-align: middle;\n",
       "    }\n",
       "\n",
       "    .dataframe tbody tr th {\n",
       "        vertical-align: top;\n",
       "    }\n",
       "\n",
       "    .dataframe thead th {\n",
       "        text-align: right;\n",
       "    }\n",
       "</style>\n",
       "<table border=\"1\" class=\"dataframe\">\n",
       "  <thead>\n",
       "    <tr style=\"text-align: right;\">\n",
       "      <th></th>\n",
       "      <th>id</th>\n",
       "      <th>date</th>\n",
       "      <th>team1</th>\n",
       "      <th>team2</th>\n",
       "      <th>toss_winner</th>\n",
       "      <th>decision</th>\n",
       "      <th>first_score</th>\n",
       "      <th>first_wkts</th>\n",
       "      <th>second_score</th>\n",
       "      <th>second_wkts</th>\n",
       "      <th>winner</th>\n",
       "      <th>player_of_the_match</th>\n",
       "      <th>most_runs</th>\n",
       "      <th>most_wkts</th>\n",
       "    </tr>\n",
       "  </thead>\n",
       "  <tbody>\n",
       "    <tr>\n",
       "      <th>1</th>\n",
       "      <td>2</td>\n",
       "      <td>March 23,2024</td>\n",
       "      <td>Delhi</td>\n",
       "      <td>Punjab</td>\n",
       "      <td>Punjab</td>\n",
       "      <td>Field</td>\n",
       "      <td>174</td>\n",
       "      <td>9</td>\n",
       "      <td>177</td>\n",
       "      <td>6</td>\n",
       "      <td>Punjab</td>\n",
       "      <td>Sam Curran</td>\n",
       "      <td>Sam Curran</td>\n",
       "      <td>Kuldeep Yadav</td>\n",
       "    </tr>\n",
       "    <tr>\n",
       "      <th>5</th>\n",
       "      <td>6</td>\n",
       "      <td>March 25,2024</td>\n",
       "      <td>Punjab</td>\n",
       "      <td>Banglore</td>\n",
       "      <td>Banglore</td>\n",
       "      <td>Field</td>\n",
       "      <td>176</td>\n",
       "      <td>6</td>\n",
       "      <td>178</td>\n",
       "      <td>6</td>\n",
       "      <td>Banglore</td>\n",
       "      <td>Virat Kohli</td>\n",
       "      <td>Virat Kohli</td>\n",
       "      <td>Harpreet Brar</td>\n",
       "    </tr>\n",
       "    <tr>\n",
       "      <th>9</th>\n",
       "      <td>10</td>\n",
       "      <td>March 29,2024</td>\n",
       "      <td>Banglore</td>\n",
       "      <td>Kolkata</td>\n",
       "      <td>Kolkata</td>\n",
       "      <td>Field</td>\n",
       "      <td>182</td>\n",
       "      <td>6</td>\n",
       "      <td>186</td>\n",
       "      <td>3</td>\n",
       "      <td>Kolkata</td>\n",
       "      <td>Sunil Narine</td>\n",
       "      <td>Virat Kohli</td>\n",
       "      <td>Andre Russell</td>\n",
       "    </tr>\n",
       "    <tr>\n",
       "      <th>13</th>\n",
       "      <td>14</td>\n",
       "      <td>April 1,2024</td>\n",
       "      <td>Mumbai</td>\n",
       "      <td>Rajasthan</td>\n",
       "      <td>Rajasthan</td>\n",
       "      <td>Field</td>\n",
       "      <td>125</td>\n",
       "      <td>9</td>\n",
       "      <td>127</td>\n",
       "      <td>4</td>\n",
       "      <td>Rajasthan</td>\n",
       "      <td>Trent Boult</td>\n",
       "      <td>Riyan Parag</td>\n",
       "      <td>Yuzvendra Chahal</td>\n",
       "    </tr>\n",
       "    <tr>\n",
       "      <th>16</th>\n",
       "      <td>17</td>\n",
       "      <td>April 4,2024</td>\n",
       "      <td>Gujarat</td>\n",
       "      <td>Punjab</td>\n",
       "      <td>Punjab</td>\n",
       "      <td>Field</td>\n",
       "      <td>199</td>\n",
       "      <td>4</td>\n",
       "      <td>200</td>\n",
       "      <td>7</td>\n",
       "      <td>Punjab</td>\n",
       "      <td>Shashank Singh</td>\n",
       "      <td>Shubman Gill</td>\n",
       "      <td>Noor Ahmad</td>\n",
       "    </tr>\n",
       "  </tbody>\n",
       "</table>\n",
       "</div>"
      ],
      "text/plain": [
       "    id           date     team1      team2 toss_winner decision  first_score  \\\n",
       "1    2  March 23,2024     Delhi     Punjab      Punjab    Field          174   \n",
       "5    6  March 25,2024    Punjab   Banglore    Banglore    Field          176   \n",
       "9   10  March 29,2024  Banglore    Kolkata     Kolkata    Field          182   \n",
       "13  14   April 1,2024    Mumbai  Rajasthan   Rajasthan    Field          125   \n",
       "16  17   April 4,2024   Gujarat     Punjab      Punjab    Field          199   \n",
       "\n",
       "    first_wkts  second_score  second_wkts     winner player_of_the_match  \\\n",
       "1            9           177            6     Punjab          Sam Curran   \n",
       "5            6           178            6   Banglore         Virat Kohli   \n",
       "9            6           186            3    Kolkata        Sunil Narine   \n",
       "13           9           127            4  Rajasthan         Trent Boult   \n",
       "16           4           200            7     Punjab      Shashank Singh   \n",
       "\n",
       "       most_runs         most_wkts  \n",
       "1     Sam Curran     Kuldeep Yadav  \n",
       "5    Virat Kohli     Harpreet Brar  \n",
       "9   Virat Kohli      Andre Russell  \n",
       "13  Riyan Parag   Yuzvendra Chahal  \n",
       "16  Shubman Gill        Noor Ahmad  "
      ]
     },
     "execution_count": 16,
     "metadata": {},
     "output_type": "execute_result"
    }
   ],
   "source": [
    "team_2_won.head()"
   ]
  },
  {
   "cell_type": "code",
   "execution_count": 17,
   "id": "1ff3283b-55af-4d72-96c9-723390e62a3c",
   "metadata": {},
   "outputs": [
    {
     "data": {
      "text/plain": [
       "([<matplotlib.patches.Wedge at 0x26f2b5cc200>,\n",
       "  <matplotlib.patches.Wedge at 0x26f2b4ccda0>,\n",
       "  <matplotlib.patches.Wedge at 0x26f2b5ccb60>,\n",
       "  <matplotlib.patches.Wedge at 0x26f2b5cd1f0>,\n",
       "  <matplotlib.patches.Wedge at 0x26f2b5cd8b0>,\n",
       "  <matplotlib.patches.Wedge at 0x26f2b5cdf40>,\n",
       "  <matplotlib.patches.Wedge at 0x26f2b5ce5a0>,\n",
       "  <matplotlib.patches.Wedge at 0x26f2b5cec60>,\n",
       "  <matplotlib.patches.Wedge at 0x26f2b5cf350>,\n",
       "  <matplotlib.patches.Wedge at 0x26f2b5cf9e0>],\n",
       " [Text(0.801865483340951, 0.7530018237868905, 'Rajasthan'),\n",
       "  Text(-0.46835732386980256, 0.9953097091747458, 'Punjab'),\n",
       "  Text(-1.065441473154942, 0.2735588917974101, 'Banglore'),\n",
       "  Text(-0.9639373195769052, -0.5299290933010675, 'Lucknow'),\n",
       "  Text(-0.4683573871446447, -0.9953096793998547, 'Hyderabad'),\n",
       "  Text(0.06906961266752759, -1.0978293986799397, 'Kolkata'),\n",
       "  Text(0.5894092565901207, -0.9287608563273333, 'Mumbai'),\n",
       "  Text(0.8899186414035474, -0.6465638496563697, 'Chennai'),\n",
       "  Text(1.0227539500146063, -0.404937473851853, 'Gujarat'),\n",
       "  Text(1.091326188495176, -0.13786642196195578, 'Delhi')],\n",
       " [Text(0.43738117273142774, 0.41072826752012204, '24.0%'),\n",
       "  Text(-0.25546763120171045, 0.5428962050044067, '16.0%'),\n",
       "  Text(-0.5811498944481501, 0.1492139409804055, '12.0%'),\n",
       "  Text(-0.5257839924964937, -0.2890522327096731, '12.0%'),\n",
       "  Text(-0.25546766571526075, -0.542896188763557, '8.0%'),\n",
       "  Text(0.03767433418228777, -0.5988160356436033, '8.0%'),\n",
       "  Text(0.3214959581400658, -0.5065968307239999, '8.0%'),\n",
       "  Text(0.4854101680382985, -0.3526711907216562, '4.0%'),\n",
       "  Text(0.557865790917058, -0.22087498573737438, '4.0%'),\n",
       "  Text(0.5952688300882777, -0.07519986652470315, '4.0%')])"
      ]
     },
     "execution_count": 17,
     "metadata": {},
     "output_type": "execute_result"
    },
    {
     "data": {
      "image/png": "[encoded data removed]",
      "text/plain": [
       "<Figure size 640x480 with 1 Axes>"
      ]
     },
     "metadata": {},
     "output_type": "display_data"
    }
   ],
   "source": [
    "plt.pie(team_2_won['winner'].value_counts(),labels=team_2_won['winner'].value_counts().keys(),autopct='%0.1f%%')"
   ]
  }
 ],
 "metadata": {
  "kernelspec": {
   "display_name": "Python 3 (ipykernel)",
   "language": "python",
   "name": "python3"
  },
  "language_info": {
   "codemirror_mode": {
    "name": "ipython",
    "version": 3
   },
   "file_extension": ".py",
   "mimetype": "text/x-python",
   "name": "python",
   "nbconvert_exporter": "python",
   "pygments_lexer": "ipython3",
   "version": "3.12.7"
  }
 },
 "nbformat": 4,
 "nbformat_minor": 5
}
